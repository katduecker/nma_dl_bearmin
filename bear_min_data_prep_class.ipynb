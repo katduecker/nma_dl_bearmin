{
  "nbformat": 4,
  "nbformat_minor": 0,
  "metadata": {
    "colab": {
      "name": "bear_min_data_prep_class.ipynb",
      "provenance": [],
      "collapsed_sections": [],
      "authorship_tag": "ABX9TyPJZ4uBIqM6TuHqjtjgOeXu",
      "include_colab_link": true
    },
    "kernelspec": {
      "name": "python3",
      "display_name": "Python 3"
    },
    "language_info": {
      "name": "python"
    }
  },
  "cells": [
    {
      "cell_type": "markdown",
      "metadata": {
        "id": "view-in-github",
        "colab_type": "text"
      },
      "source": [
        "<a href=\"https://colab.research.google.com/github/katduecker/nma_dl_bearmin/blob/main/bear_min_data_prep_class.ipynb\" target=\"_parent\"><img src=\"https://colab.research.google.com/assets/colab-badge.svg\" alt=\"Open In Colab\"/></a>"
      ]
    },
    {
      "cell_type": "code",
      "metadata": {
        "colab": {
          "base_uri": "https://localhost:8080/",
          "height": 135
        },
        "id": "ofTvZ2CH6Cjb",
        "outputId": "469cfb64-1376-4a34-af7f-4f74c53fa6c1"
      },
      "source": [
        "class ecog_preproc:\n",
        "\n",
        "  def __init__(self, fname, l_cutoff, h_cutoff, sfreq, trange, bslrange, freqs, subjid, expid, ncyc):\n",
        " \"\"\"fname: filename\n",
        "    *_cutoff: frequencies for high and low pass filter\n",
        "    trange: time vector for each epoch\n",
        "    bslrange: baseline interval (used for baseline correction/relative baseline)\n",
        "    sfreq: sampling rate\n",
        "    freqs: frequencies of interest\n",
        "    subjid: subject ID (0-6)\n",
        "    expid: experiment (0: passive viewing faces + houses , 1: viewing faces, houses, noisy images)\n",
        "    ncyc: number of cycles for morlet tfr\n",
        " \n",
        " \"\"\"\n",
        "    self.fname = fname\n",
        "    self.l_cutoff = l_cutoff\n",
        "    self.h_cutoff = h_cutoff\n",
        "    self.sfreq = sfreq\n",
        "    self.trange = trange\n",
        "    self.bslrange = bslrange\n",
        "    self.freqs = freqs\n",
        "    self.subjid = subjid\n",
        "\n",
        "  def load_raw(self):\n",
        "    #@title load data\n",
        "    alldat = np.load(self.fname, allow_pickle=True)['dat']\n",
        "    # select just one of the recordings here. \n",
        "    dat1 = alldat[subjid][expid]\n",
        "\n",
        "    return dat1\n",
        "\n",
        "  def run_filter(self, dat1):\n",
        "    ch_names = [f'ecog{n:03}' for n in range(1, dat1['V'].shape[1]+1)] \n",
        "    ch_types='ecog'\n",
        "    info = mne.create_info(ch_names, ch_types=ch_types, sfreq=self.sfreq)\n",
        "    info['description'] = 'Example pat no 1'\n",
        "\n",
        "    V = dat1['V'].astype('float32')\n",
        "    nt, nchan = V.shape\n",
        "    nstim = len(dat1['t_on'])\n",
        "\n",
        "    # V.transpose() ?\n",
        "    raw = mne.io.RawArray(V.transpose(), info, first_samp=0, copy='auto' )\n",
        "    raw_filtered = raw.filter(l_freq=self.l_cutoff, h_freq=self.h_cutoff, method='fir', fir_design='firwin', filter_length='auto', fir_window='hamming', phase='zero', \n",
        "              l_trans_bandwidth='auto', h_trans_bandwidth='auto')\n",
        "    V_filtered = raw_filtered['data'][0].transpose()\n",
        "\n",
        "    return V_filtered, info\n",
        "\n",
        "  def make_epochs(self, dat1, V_filtered, info):\n",
        "\n",
        "    nt, nchan = V_filtered.shape\n",
        "    nstim = len(dat1['t_on'])\n",
        "\n",
        "    ts = dat1['t_on'][:,np.newaxis] + self.trange\n",
        "    V_epochs = np.reshape(V_filtered[ts, :], (nstim, 600, nchan))\n",
        "\n",
        "    V_epochs = np.transpose(V_epochs, [0, 2, 1])\n",
        "\n",
        "    # extract events\n",
        "    events = np.zeros((dat1['t_on'].shape[0],3), dtype=int)\n",
        "    events[:,0] = dat1['t_on'] \n",
        "    events[:,1] = dat1['t_off'] \n",
        "    eve_ids = dat1['stim_id'].copy()\n",
        "\n",
        "    eve_ids[eve_ids <= 50] = 1\n",
        "    eve_ids[eve_ids > 50] = 2\n",
        "    events[:,2] = eve_ids\n",
        "    event_dict = dict(houses=1, faces=2)\n",
        "    epochs = mne.EpochsArray(V_epochs, info, tmin=-0.2, events=events,\n",
        "                                   event_id=event_dict, baseline=bslrange)\n",
        "    \n",
        "    return epochs\n",
        "\n",
        "  def mor_tfr(self, epochs):\n",
        "\n",
        "    powface = tfr_morlet(epochs['faces'], freqs=self.freqs, n_cycles=self.ncyc, return_itc=False, average=False)\n",
        "    powhouse = tfr_morlet(epochs['houses'], freqs=self.freqs, n_cycles=self.ncyc, return_itc=False, average=False)\n",
        "\n",
        "    powface.apply_baseline(bslrange, mode='logratio')\n",
        "    powhouse.apply_baseline(bslrange, mode='logratio')\n",
        "\n",
        "    return powface, powhouse"
      ],
      "execution_count": 4,
      "outputs": [
        {
          "output_type": "error",
          "ename": "IndentationError",
          "evalue": "ignored",
          "traceback": [
            "\u001b[0;36m  File \u001b[0;32m\"<ipython-input-4-03af30411fe7>\"\u001b[0;36m, line \u001b[0;32m4\u001b[0m\n\u001b[0;31m    \"\"\"fname: filename\u001b[0m\n\u001b[0m                      ^\u001b[0m\n\u001b[0;31mIndentationError\u001b[0m\u001b[0;31m:\u001b[0m unindent does not match any outer indentation level\n"
          ]
        }
      ]
    }
  ]
}