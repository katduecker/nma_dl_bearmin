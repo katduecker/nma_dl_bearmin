{
  "nbformat": 4,
  "nbformat_minor": 0,
  "metadata": {
    "colab": {
      "name": "bearmin_cnn.ipynb",
      "provenance": [],
      "collapsed_sections": [],
      "authorship_tag": "ABX9TyOkdsV1LIGOnppvIoBYqOb4",
      "include_colab_link": true
    },
    "kernelspec": {
      "name": "python3",
      "display_name": "Python 3"
    },
    "language_info": {
      "name": "python"
    },
    "accelerator": "GPU"
  },
  "cells": [
    {
      "cell_type": "markdown",
      "metadata": {
        "id": "view-in-github",
        "colab_type": "text"
      },
      "source": [
        "<a href=\"https://colab.research.google.com/github/katduecker/nma_dl_bearmin/blob/main/bearmin_cnn.ipynb\" target=\"_parent\"><img src=\"https://colab.research.google.com/assets/colab-badge.svg\" alt=\"Open In Colab\"/></a>"
      ]
    },
    {
      "cell_type": "code",
      "metadata": {
        "colab": {
          "base_uri": "https://localhost:8080/"
        },
        "id": "HFKdHSx0vE3Z",
        "outputId": "fc7ec633-5190-4b8f-b57d-ee83a53f0246"
      },
      "source": [
        "# @title Install dependencies\n",
        "!pip install livelossplot --quiet\n",
        "!pip install Pillow --quiet\n",
        "!pip install imageio-ffmpeg --quiet\n",
        "\n",
        "!pip install git+https://github.com/NeuromatchAcademy/evaltools --quiet\n",
        "from evaltools.airtable import AirtableForm\n",
        "\n",
        "# generate airtable form\n",
        "atform = AirtableForm('appn7VdPRseSoMXEG','W2D1_T1','https://portal.neuromatchacademy.org/api/redirect/to/9c55f6cb-cdf9-4429-ac1c-ec44fe64c303')"
      ],
      "execution_count": 11,
      "outputs": [
        {
          "output_type": "stream",
          "text": [
            "\u001b[K     |████████████████████████████████| 26.9 MB 90 kB/s \n",
            "\u001b[?25h  Building wheel for evaltools (setup.py) ... \u001b[?25l\u001b[?25hdone\n"
          ],
          "name": "stdout"
        }
      ]
    },
    {
      "cell_type": "code",
      "metadata": {
        "colab": {
          "base_uri": "https://localhost:8080/"
        },
        "id": "-eNSg8FIeo8Z",
        "outputId": "c7d155e9-f575-48b1-b48e-e44c8d949aaa"
      },
      "source": [
        "# Imports\n",
        "import time\n",
        "import torch\n",
        "import pathlib\n",
        "import scipy.signal\n",
        "import numpy as np\n",
        "import matplotlib.pyplot as plt\n",
        "\n",
        "import torch.nn as nn\n",
        "import torch.optim as optim\n",
        "import torch.nn.functional as F\n",
        "\n",
        "import torchvision.transforms as transforms\n",
        "import torchvision.datasets as datasets\n",
        "from torchvision.utils import make_grid\n",
        "from torchvision.datasets import ImageFolder\n",
        "from torch.utils.data import DataLoader, TensorDataset\n",
        "\n",
        "from tqdm.notebook import tqdm, trange\n",
        "from PIL import Image\n",
        "from google.colab import drive\n",
        "drive.mount('/content/drive')"
      ],
      "execution_count": 12,
      "outputs": [
        {
          "output_type": "stream",
          "text": [
            "Drive already mounted at /content/drive; to attempt to forcibly remount, call drive.mount(\"/content/drive\", force_remount=True).\n"
          ],
          "name": "stdout"
        }
      ]
    },
    {
      "cell_type": "code",
      "metadata": {
        "id": "SYb9yN_ztwND"
      },
      "source": [
        "# @title Set device (GPU or CPU). Execute `set_device()`\n",
        "# especially if torch modules used.\n",
        "\n",
        "# inform the user if the notebook uses GPU or CPU.\n",
        "\n",
        "def set_device():\n",
        "  device = \"cuda\" if torch.cuda.is_available() else \"cpu\"\n",
        "  if device != \"cuda\":\n",
        "    print(\"WARNING: For this notebook to perform best, \"\n",
        "        \"if possible, in the menu under `Runtime` -> \"\n",
        "        \"`Change runtime type.`  select `GPU` \")\n",
        "  else:\n",
        "    print(\"GPU is enabled in this notebook.\")\n",
        "\n",
        "  return device\n",
        "\n",
        "\n",
        "#set_device()"
      ],
      "execution_count": 15,
      "outputs": []
    },
    {
      "cell_type": "code",
      "metadata": {
        "colab": {
          "base_uri": "https://localhost:8080/",
          "height": 74
        },
        "id": "yYSDJE9VuL4u",
        "outputId": "737f14dc-bd17-40a7-e5f2-b91d964e8f89"
      },
      "source": [
        "DEVICE = set_device()\n",
        "DEVICE"
      ],
      "execution_count": 16,
      "outputs": [
        {
          "output_type": "stream",
          "text": [
            "WARNING: For this notebook to perform best, if possible, in the menu under `Runtime` -> `Change runtime type.`  select `GPU` \n"
          ],
          "name": "stdout"
        },
        {
          "output_type": "execute_result",
          "data": {
            "application/vnd.google.colaboratory.intrinsic+json": {
              "type": "string"
            },
            "text/plain": [
              "'cpu'"
            ]
          },
          "metadata": {
            "tags": []
          },
          "execution_count": 16
        }
      ]
    },
    {
      "cell_type": "code",
      "metadata": {
        "id": "O0i2Ibp0fbB2"
      },
      "source": [
        "# load data\n",
        "x = np.load('/content/drive/My Drive/Colab Notebooks/NMA DL 2021/bear mins/cnn_ecog_tfr_loghouse_t.npz',allow_pickle=True)\n",
        "logpowhouse_t = x['arr_0'] # access array that contains tfrs trial x frequency x time x channel\n",
        "\n",
        "x = np.load('/content/drive/My Drive/Colab Notebooks/NMA DL 2021/bear mins/cnn_ecog_tfr_logface_t.npz',allow_pickle=True)\n",
        "logpowface_t = x['arr_0']\n",
        "\n",
        "logpowhouse_t.shape, logpowface_t.shape\n",
        "\n",
        "del x"
      ],
      "execution_count": 18,
      "outputs": []
    },
    {
      "cell_type": "code",
      "metadata": {
        "id": "i8-Dx9-4i97H"
      },
      "source": [
        "# one-hot code outputs\n",
        "lface = np.hstack((np.ones((logpowface_t.shape[0],1)), np.zeros((logpowface_t.shape[0],1))))  # output face [1 0]\n",
        "lhouse = np.hstack((np.zeros((logpowhouse_t.shape[0],1)), np.ones((logpowhouse_t.shape[0],1)))) # output house  [0 1]\n",
        "\n",
        "y = np.vstack((lface,lhouse))  # concatenate vertically (150 faces, 150 houses)\n",
        "         "
      ],
      "execution_count": 20,
      "outputs": []
    },
    {
      "cell_type": "code",
      "metadata": {
        "id": "0281un-1lQzA"
      },
      "source": [
        "data = np.vstack((logpowface_t,logpowhouse_t)) # concatenate tfrs vertically (same order as outputs y)\n",
        "\n",
        "del logpowface_t, logpowhouse_t\n",
        "\n",
        "datnorm = torch.nn.functional.normalize(torch.from_numpy(data), p=2.0, dim=1, eps=1e-12, out=None).to(DEVICE)\n",
        "\n",
        "del data\n",
        "\n",
        "# normalize: subtract mean"
      ],
      "execution_count": 24,
      "outputs": []
    },
    {
      "cell_type": "code",
      "metadata": {
        "id": "e71SirdSmddU"
      },
      "source": [
        "szmini = 10  # size minibatch\n",
        "shufidx = np.random.permutation(datnorm.shape[0]) # randomly drawn indices\n",
        "\n",
        "# split into train & test\n",
        "idxtrain = shufidx[0:200]\n",
        "idxtest = shufidx[200:datnorm.shape[0]]\n",
        "\n",
        "# template\n",
        "#for i in range(data.shape[0]/szmini):\n",
        "  #curx = data[shufidx[i*szmini:i*szmini+szmini],:,:,:]\n",
        "  #cury = y[shufidx[i*szmini:i*szmini+szmini]]"
      ],
      "execution_count": 47,
      "outputs": []
    },
    {
      "cell_type": "code",
      "metadata": {
        "id": "NU1zLlZrnzW2"
      },
      "source": [
        "# convert to tensor\n",
        "\n",
        "# training set\n",
        "datatrain = torch.from_numpy(data[idxtrain,:,:,:])\n",
        "labeltrain = torch.from_numpy(y[idxtrain,:])\n",
        "\n",
        "# test set\n",
        "datatest = torch.from_numpy(data[idxtest,:,:,:])\n",
        "labeltest = torch.from_numpy(y[idxtest,:])\n",
        "\n"
      ],
      "execution_count": 49,
      "outputs": []
    },
    {
      "cell_type": "code",
      "metadata": {
        "id": "2NlGWAwWpUTA"
      },
      "source": [
        "# create cnn"
      ],
      "execution_count": null,
      "outputs": []
    }
  ]
}